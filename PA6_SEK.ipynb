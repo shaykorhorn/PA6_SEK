{
 "cells": [
  {
   "cell_type": "markdown",
   "id": "de7561b0",
   "metadata": {},
   "source": [
    "* Shay Korhorn\n",
    "* Version 1\n",
    "* Programming Assignment 6\n",
    "* Fall 2023"
   ]
  },
  {
   "cell_type": "markdown",
   "id": "8ab0f45c",
   "metadata": {},
   "source": [
    "# Task 1"
   ]
  },
  {
   "cell_type": "markdown",
   "id": "6a4fe72e",
   "metadata": {},
   "source": [
    "### Write a Python program will calculate the area and perimeter of a triangle using two different functions named calcArea() and calcPerimeter(). Your program should prompt the user for the length of three sides of the triangle. Each function should take the lengths of the sides as arguments and return the output of their respective calculations. As an added feature, set the default values of your parameters to 1 so if you call either function without parameters, it will still produce output) (I recommend using Heron’s Method for calculating the area of a triangle.)"
   ]
  },
  {
   "cell_type": "code",
   "execution_count": 1,
   "id": "13f1cac2",
   "metadata": {},
   "outputs": [
    {
     "name": "stdout",
     "output_type": "stream",
     "text": [
      "Enter the length of side A: 5\n",
      "Enter the length of side B: 5\n",
      "Enter the length of side C: 5\n",
      "The area of the triangle is approximately 10.825318 square units.\n",
      "The perimeter of the triangle is 15.0 linear units.\n",
      "Do you want to calculate another triangle (yes/no)? no\n"
     ]
    }
   ],
   "source": [
    "import math\n",
    "\n",
    "def calcArea(a=1, b=1, c=1):\n",
    "    # calculate \n",
    "    s = (a + b + c) / 2\n",
    "    # use formula to calculate the area\n",
    "    area = math.sqrt(s * (s - a) * (s - b) * (s - c))\n",
    "    return area\n",
    "\n",
    "def calcPerimeter(a=1, b=1, c=1):\n",
    "    perimeter = a + b + c\n",
    "    return perimeter\n",
    "\n",
    "while True:\n",
    "    try:\n",
    "        side_a = float(input(\"Enter the length of side A: \"))\n",
    "        side_b = float(input(\"Enter the length of side B: \"))\n",
    "        side_c = float(input(\"Enter the length of side C: \"))\n",
    "        \n",
    "        area = calcArea(side_a, side_b, side_c)\n",
    "        perimeter = calcPerimeter(side_a, side_b, side_c)\n",
    "        \n",
    "        print(f\"The area of the triangle is approximately {area:.6f} square units.\")\n",
    "        print(f\"The perimeter of the triangle is {perimeter} linear units.\")\n",
    "    except ValueError:\n",
    "        print(\"Invalid input. Please enter numeric values for the side lengths.\")\n",
    "    \n",
    "    repeat = input(\"Do you want to calculate another triangle (yes/no)? \").lower()\n",
    "    if repeat != \"yes\":\n",
    "        break"
   ]
  },
  {
   "cell_type": "markdown",
   "id": "8e5a91df",
   "metadata": {},
   "source": [
    "# Task 2"
   ]
  },
  {
   "cell_type": "markdown",
   "id": "5bb8593c",
   "metadata": {},
   "source": [
    "### Write a Python program to play “Guess the Number”. Your program should generate a random number between 1 and 1000 and then prompt the user for a guess. Possible responses to the guess should be ‘Too high! Guess again’, ‘Too low! Guess again’, and ‘Correct!’."
   ]
  },
  {
   "cell_type": "code",
   "execution_count": 2,
   "id": "42aa1992",
   "metadata": {},
   "outputs": [
    {
     "name": "stdout",
     "output_type": "stream",
     "text": [
      "Enter your guess: 55\n",
      "Too low! Guess again\n",
      "Enter your guess: 65\n",
      "Too low! Guess again\n",
      "Enter your guess: 900\n",
      "Too high! Guess again\n",
      "Enter your guess: 600\n",
      "Too high! Guess again\n",
      "Enter your guess: 300\n",
      "Too low! Guess again\n",
      "Enter your guess: 400\n",
      "Too high! Guess again\n",
      "Enter your guess: 350\n",
      "Too low! Guess again\n",
      "Enter your guess: 375\n",
      "Too low! Guess again\n",
      "Enter your guess: 380\n",
      "Too low! Guess again\n",
      "Enter your guess: 385\n",
      "Too low! Guess again\n",
      "Enter your guess: 390\n",
      "Too high! Guess again\n",
      "Enter your guess: 387\n",
      "Too high! Guess again\n",
      "Enter your guess: 386\n",
      "Correct!\n",
      "Congratulations! You've guessed the correct number: 386\n"
     ]
    }
   ],
   "source": [
    "import random\n",
    "\n",
    "def evaluateGuess(guess, target):\n",
    "    if guess < target:\n",
    "        return \"Too low! Guess again\"\n",
    "    elif guess > target:\n",
    "        return \"Too high! Guess again\"\n",
    "    else:\n",
    "        return \"Correct!\"\n",
    "\n",
    "# generate random number\n",
    "target_number = random.randint(1, 1000)\n",
    "\n",
    "while True:\n",
    "    try:\n",
    "        user_guess = int(input(\"Enter your guess: \"))\n",
    "        result = evaluateGuess(user_guess, target_number)\n",
    "        print(result)\n",
    "        if result == \"Correct!\":\n",
    "            break\n",
    "    except ValueError:\n",
    "        print(\"Invalid input. Please enter a numeric guess.\")\n",
    "\n",
    "print(\"Congratulations! You've guessed the correct number:\", target_number)"
   ]
  },
  {
   "cell_type": "markdown",
   "id": "07d02ff1",
   "metadata": {},
   "source": [
    "# Task 3"
   ]
  },
  {
   "cell_type": "markdown",
   "id": "dd91a13c",
   "metadata": {},
   "source": [
    "### Write a Python program to calculate the mean temperature over a set of Fahrenheit temperature values. Your program should calculate the mean in a function called meanTemp()and then print message that indicates the number of days your mean represents and the mean (see below). Your function should be flexible so that you can pass any number of temperatures to it. You do not need to get input from the user; simply include the temperatures in the function parameter list. "
   ]
  },
  {
   "cell_type": "code",
   "execution_count": 3,
   "id": "21971fc1",
   "metadata": {},
   "outputs": [
    {
     "name": "stdout",
     "output_type": "stream",
     "text": [
      "The mean temperature for the past 7 days is 88.14 degrees F.\n",
      "The mean temperature for the past 5 days is 88.20 degrees F.\n",
      "The mean temperature for the past 2 days is 90.00 degrees F.\n"
     ]
    }
   ],
   "source": [
    "def meanTemp(*temperatures):\n",
    "    num_days = len(temperatures)\n",
    "    if num_days == 0:\n",
    "        return \"No temperatures provided.\"\n",
    "\n",
    "    total_temp = sum(temperatures)\n",
    "    mean = total_temp / num_days\n",
    "    return f\"The mean temperature for the past {num_days} days is {mean:.2f} degrees F.\"\n",
    "\n",
    "\n",
    "temperatures1 = [88, 90, 85, 89, 86, 88, 91]\n",
    "temperatures2 = [87, 90, 88, 86, 90]\n",
    "temperatures3 = [92, 88]\n",
    "\n",
    "print(meanTemp(*temperatures1))\n",
    "print(meanTemp(*temperatures2))\n",
    "print(meanTemp(*temperatures3))"
   ]
  }
 ],
 "metadata": {
  "kernelspec": {
   "display_name": "Python 3 (ipykernel)",
   "language": "python",
   "name": "python3"
  },
  "language_info": {
   "codemirror_mode": {
    "name": "ipython",
    "version": 3
   },
   "file_extension": ".py",
   "mimetype": "text/x-python",
   "name": "python",
   "nbconvert_exporter": "python",
   "pygments_lexer": "ipython3",
   "version": "3.11.4"
  }
 },
 "nbformat": 4,
 "nbformat_minor": 5
}
