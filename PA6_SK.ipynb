{
 "cells": [
  {
   "cell_type": "markdown",
   "id": "680172a0",
   "metadata": {},
   "source": [
    "* Shay Korhorn\n",
    "* Version 1\n",
    "* Programming Assignment 6\n",
    "* Fall 2023"
   ]
  },
  {
   "cell_type": "markdown",
   "id": "f8729c66",
   "metadata": {},
   "source": [
    "# Task 1\n",
    "### Write a program that will calculate the area and perimeter of a triangle using two different functions named calcArea() and calcPerimeter()."
   ]
  },
  {
   "cell_type": "code",
   "execution_count": 1,
   "id": "3aae2255",
   "metadata": {},
   "outputs": [
    {
     "name": "stdout",
     "output_type": "stream",
     "text": [
      "Enter the length of side A: 2\n",
      "Enter the length of side B: 4\n",
      "Enter the length of side C: 6\n",
      "The area of the triangle is approximately 0.000000 square units.\n",
      "The perimeter of the triangle is 12.0 linear units.\n",
      "\n",
      "The area of the triangle is approximately 0.433013 square units.\n",
      "The perimeter of the triangle is 3 linear units.\n"
     ]
    }
   ],
   "source": [
    "import math\n",
    "\n",
    "def calcArea(a=1, b=1, c=1):\n",
    "    # Formula for calculating the area of a triangle\n",
    "    s = (a + b + c) / 2\n",
    "    area = math.sqrt(s * (s - a) * (s - b) * (s - c))\n",
    "    return area\n",
    "\n",
    "def calcPerimeter(a=1, b=1, c=1):\n",
    "    perimeter = a + b + c\n",
    "    return perimeter\n",
    "\n",
    "side_a = float(input(\"Enter the length of side A: \"))\n",
    "side_b = float(input(\"Enter the length of side B: \"))\n",
    "side_c = float(input(\"Enter the length of side C: \"))\n",
    "\n",
    "area = calcArea(side_a, side_b, side_c)\n",
    "perimeter = calcPerimeter(side_a, side_b, side_c)\n",
    "\n",
    "print(f\"The area of the triangle is approximately {area:.6f} square units.\")\n",
    "print(f\"The perimeter of the triangle is {perimeter} linear units.\")\n",
    "\n",
    "area_default = calcArea()\n",
    "perimeter_default = calcPerimeter()\n",
    "\n",
    "print(f\"\\nThe area of the triangle is approximately {area_default:.6f} square units.\")\n",
    "print(f\"The perimeter of the triangle is {perimeter_default} linear units.\")"
   ]
  },
  {
   "cell_type": "markdown",
   "id": "82a8458e",
   "metadata": {},
   "source": [
    "# Task 2\n",
    "### Write a Python program to play “Guess the Number”. Your program should generate a random number between 1 and 1000 and then prompt the user for a guess. Possible responses to the guess should be ‘Too high! Guess again’, ‘Too low! Guess again’, and ‘Correct!’."
   ]
  },
  {
   "cell_type": "code",
   "execution_count": 2,
   "id": "60d8d17c",
   "metadata": {},
   "outputs": [
    {
     "name": "stdout",
     "output_type": "stream",
     "text": [
      "Enter your guess: 54\n",
      "Too low! Guess again\n",
      "Enter your guess: 60\n",
      "Too low! Guess again\n",
      "Enter your guess: 61\n",
      "Too low! Guess again\n",
      "Enter your guess: 70\n",
      "Too low! Guess again\n",
      "Enter your guess: 500\n",
      "Too low! Guess again\n",
      "Enter your guess: 1000\n",
      "Too high! Guess again\n",
      "Enter your guess: 600\n",
      "Too high! Guess again\n",
      "Enter your guess: 550\n",
      "Too low! Guess again\n",
      "Enter your guess: 570\n",
      "Too high! Guess again\n",
      "Enter your guess: 560\n",
      "Too low! Guess again\n",
      "Enter your guess: 565\n",
      "Too high! Guess again\n",
      "Enter your guess: 563\n",
      "Too high! Guess again\n",
      "Enter your guess: 562\n",
      "Correct!\n"
     ]
    }
   ],
   "source": [
    "import random\n",
    "\n",
    "def evaluateGuess(guess, target):\n",
    "    if guess < target:\n",
    "        return \"Too low! Guess again\"\n",
    "    elif guess > target:\n",
    "        return \"Too high! Guess again\"\n",
    "    else:\n",
    "        return \"Correct!\"\n",
    "\n",
    "def guessTheNumber():\n",
    "    target_number = random.randint(1, 1000)\n",
    "\n",
    "    while True:\n",
    "        user_guess = int(input(\"Enter your guess: \"))\n",
    "        result = evaluateGuess(user_guess, target_number)\n",
    "        print(result)\n",
    "\n",
    "        if result == \"Correct!\":\n",
    "            break\n",
    "\n",
    "guessTheNumber()"
   ]
  },
  {
   "cell_type": "markdown",
   "id": "6ca5dffa",
   "metadata": {},
   "source": [
    "# Task 3\n",
    "### Write a Python program to calculate the mean temperature over a set of Fahrenheit temperature values. "
   ]
  },
  {
   "cell_type": "code",
   "execution_count": 3,
   "id": "56511b3d",
   "metadata": {},
   "outputs": [
    {
     "name": "stdout",
     "output_type": "stream",
     "text": [
      "The mean temperature for the past 7 days is 88.86 degrees F.\n",
      "The mean temperature for the past 5 days is 89.40 degrees F.\n",
      "The mean temperature for the past 2 days is 90.00 degrees F.\n"
     ]
    }
   ],
   "source": [
    "def meanTemp(*temperatures):\n",
    "    num_days = len(temperatures)\n",
    "    if num_days == 0:\n",
    "        return \"No temperatures provided.\"\n",
    "\n",
    "    mean_temperature = sum(temperatures) / num_days\n",
    "    return f\"The mean temperature for the past {num_days} days is {mean_temperature:.2f} degrees F.\"\n",
    "\n",
    "print(meanTemp(90, 85, 88, 92, 89, 87, 91))\n",
    "print(meanTemp(88, 87, 89, 91, 92))\n",
    "print(meanTemp(95, 85))"
   ]
  }
 ],
 "metadata": {
  "kernelspec": {
   "display_name": "Python 3 (ipykernel)",
   "language": "python",
   "name": "python3"
  },
  "language_info": {
   "codemirror_mode": {
    "name": "ipython",
    "version": 3
   },
   "file_extension": ".py",
   "mimetype": "text/x-python",
   "name": "python",
   "nbconvert_exporter": "python",
   "pygments_lexer": "ipython3",
   "version": "3.11.4"
  }
 },
 "nbformat": 4,
 "nbformat_minor": 5
}
